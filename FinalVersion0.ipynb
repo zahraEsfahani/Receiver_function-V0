{
 "cells": [
  {
   "cell_type": "markdown",
   "id": "a539aff8",
   "metadata": {},
   "source": [
    "# load import libraries"
   ]
  },
  {
   "cell_type": "code",
   "execution_count": 1,
   "id": "ae4491a3",
   "metadata": {},
   "outputs": [],
   "source": [
    "#Aim is 1-D receiver function analysis\n",
    "import numpy as np\n",
    "import math\n",
    "import obspy\n",
    "from seispy.decon import RFTrace\n",
    "import seispy\n",
    "import scipy\n",
    "import scipy.io as sio\n",
    "from matplotlib import pyplot as plt\n",
    "from future.utils import native_str\n",
    "import os\n",
    "import sys\n",
    "from scipy import interpolate\n",
    "from scipy import signal\n",
    "from obspy import read\n",
    "import pandas as pd"
   ]
  },
  {
   "cell_type": "markdown",
   "id": "9a1c5902",
   "metadata": {},
   "source": [
    "# Set All Parameters"
   ]
  },
  {
   "cell_type": "markdown",
   "id": "d24e8ae7",
   "metadata": {},
   "source": [
    "# Code, Function[dseis] = decon(fseis,source,water_level)\n",
    "# RF function"
   ]
  },
  {
   "cell_type": "code",
   "execution_count": 2,
   "id": "3d8c3815",
   "metadata": {},
   "outputs": [],
   "source": [
    "def reciever_function(trace,source,water_level=1000,tshift=10):\n",
    "    '''\n",
    "    reciever_function(trace,source,water_level=1000,tshift=10),input the seismic Trace(E,N,Z) direction \n",
    "    and rotate it in (R-T-Z)component,\n",
    "    source and trace are the single traces, producing a single deconvolved trace. Where each trace in input \n",
    "    Trace is deconvohttps://github.com/PATH-TO/REPOSITORYlved by each corresponding Source \n",
    "    and apply ifft,(the value of water_level(damping factor) and tshift have been\n",
    "    recommended).Having all to make\n",
    "    Reciever_function for the station.\n",
    "    '''\n",
    "    slength = (trace.data).shape[0]\n",
    "    source_matrix = np.matrix(source)\n",
    "    nsrc = source_matrix.shape[0]\n",
    "    trace_matrix = np.matrix(trace)\n",
    "    ntr = trace_matrix.shape[0]\n",
    "    n2=2**(math.ceil(math.log(slength)/math.log(2)))\n",
    "    omega = np.arange(0,n2/2)*2*(math.pi)/(n2*delta)\n",
    "    wtshift = -(1j)*omega*tshift\n",
    "    traceft = np.fft.fft([st_rot.traces[1].data],n2,axis=1)\n",
    "    sourceft = np.fft.fft([st_rot.traces[2].data],n2,axis=1)\n",
    "    traceft = traceft[:,0:int(n2/2)]\n",
    "    sourceft = sourceft[:,0:int(n2/2)]\n",
    "    traceft_real = (traceft.real)[0]\n",
    "    sourceft_real = (sourceft.real)[0]\n",
    "    dseisft = np.multiply(traceft,np.conjugate(sourceft))/(np.multiply(sourceft,np.conjugate(sourceft))+water_level)\n",
    "    dseisft_real = (dseisft.real)[0]\n",
    "    zeros_wtshift = np.zeros_like(wtshift)\n",
    "    dseisft=np.multiply(dseisft,(np.ones((1,1))*np.exp(zeros_wtshift)))\n",
    "    dseisfttrans = np.array(np.transpose(dseisft))\n",
    "    dseisftfinal =np.concatenate([dseisfttrans,np.fliplr(np.conjugate(dseisfttrans[1:int(n2/2)]))])\n",
    "    rf = np.fft.irfft(dseisftfinal,n2,0)\n",
    "    rf = (rf[0:slength])\n",
    "    return(rf,omega,wtshift,dseisft_real) "
   ]
  },
  {
   "cell_type": "code",
   "execution_count": 6,
   "id": "bb94aab2",
   "metadata": {},
   "outputs": [],
   "source": [
    "st = obspy.read('/home/zahra/reciever function/poin1/CN.POIN..HH*_2018-12-05T04_32_12.148_2018-12-05T04_43_12.148.sac')\n",
    "print(st)\n",
    "tr = st[0]\n",
    "print(tr.stats)\n",
    "delta =0.01\n",
    "water_level=1000\n",
    "da = seispy.distaz(st[0].stats.sac.stla, st[0].stats.sac.stlo,st[0].stats.sac.evla, st[0].stats.sac.evlo)\n",
    "dis = da.delta\n",
    "bazi = da.baz\n",
    "ev_dep = st[0].stats.sac.evdp\n",
    "print('Distance = %5.2f˚' %dis)\n",
    "print('back_azimuth = %5.2f˚' %bazi)\n",
    "st_rot = st.copy().rotate(\"NE->RT\", back_azimuth=bazi)\n",
    "trace =  st_rot.traces[1]\n",
    "source = st_rot.traces[2]\n",
    "\n",
    "rf,omega,wtshift,dseisft_real=reciever_function(trace,source,water_level)"
   ]
  },
  {
   "cell_type": "code",
   "execution_count": 5,
   "id": "8a639098",
   "metadata": {},
   "outputs": [],
   "source": [
    "plt.title(\"rf\")\n",
    "plt.plot(rf)\n",
    "plt.xlim(0, 30)\n",
    "plt.xticks(np.arange(0, 30,10))\n",
    "plt.xlabel('Depth (km)')\n",
    "plt.show()"
   ]
  },
  {
   "cell_type": "code",
   "execution_count": null,
   "id": "d83f18cd",
   "metadata": {},
   "outputs": [],
   "source": []
  },
  {
   "cell_type": "code",
   "execution_count": null,
   "id": "71b9a23b",
   "metadata": {},
   "outputs": [],
   "source": []
  },
  {
   "cell_type": "code",
   "execution_count": null,
   "id": "95e1dbd3",
   "metadata": {},
   "outputs": [],
   "source": []
  }
 ],
 "metadata": {
  "kernelspec": {
   "display_name": "Python 3 (ipykernel)",
   "language": "python",
   "name": "python3"
  },
  "language_info": {
   "codemirror_mode": {
    "name": "ipython",
    "version": 3
   },
   "file_extension": ".py",
   "mimetype": "text/x-python",
   "name": "python",
   "nbconvert_exporter": "python",
   "pygments_lexer": "ipython3",
   "version": "3.8.10"
  }
 },
 "nbformat": 4,
 "nbformat_minor": 5
}
